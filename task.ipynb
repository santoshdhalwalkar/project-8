{
 "cells": [
  {
   "cell_type": "code",
   "execution_count": 88,
   "metadata": {},
   "outputs": [],
   "source": [
    "#import the liabaries\n",
    "import seaborn as sns\n",
    "import matplotlib.pyplot as plt\n",
    "import pandas as pd\n",
    "import numpy as np\n",
    "import sklearn\n",
    "import warnings\n",
    "warnings.filterwarnings(\"ignore\")\n",
    "%matplotlib inline"
   ]
  },
  {
   "cell_type": "code",
   "execution_count": 89,
   "metadata": {},
   "outputs": [
    {
     "data": {
      "text/html": [
       "<div>\n",
       "<style scoped>\n",
       "    .dataframe tbody tr th:only-of-type {\n",
       "        vertical-align: middle;\n",
       "    }\n",
       "\n",
       "    .dataframe tbody tr th {\n",
       "        vertical-align: top;\n",
       "    }\n",
       "\n",
       "    .dataframe thead th {\n",
       "        text-align: right;\n",
       "    }\n",
       "</style>\n",
       "<table border=\"1\" class=\"dataframe\">\n",
       "  <thead>\n",
       "    <tr style=\"text-align: right;\">\n",
       "      <th></th>\n",
       "      <th>title</th>\n",
       "      <th>link</th>\n",
       "      <th>published_date</th>\n",
       "      <th>is_hourly</th>\n",
       "      <th>hourly_low</th>\n",
       "      <th>hourly_high</th>\n",
       "      <th>budget</th>\n",
       "      <th>country</th>\n",
       "    </tr>\n",
       "  </thead>\n",
       "  <tbody>\n",
       "    <tr>\n",
       "      <th>0</th>\n",
       "      <td>Experienced Media Buyer For Solar Pannel and R...</td>\n",
       "      <td>https://www.upwork.com/jobs/Experienced-Media-...</td>\n",
       "      <td>2024-02-17 09:09:54+00:00</td>\n",
       "      <td>False</td>\n",
       "      <td>NaN</td>\n",
       "      <td>NaN</td>\n",
       "      <td>500.0</td>\n",
       "      <td>NaN</td>\n",
       "    </tr>\n",
       "    <tr>\n",
       "      <th>1</th>\n",
       "      <td>Full Stack Developer</td>\n",
       "      <td>https://www.upwork.com/jobs/Full-Stack-Develop...</td>\n",
       "      <td>2024-02-17 09:09:17+00:00</td>\n",
       "      <td>False</td>\n",
       "      <td>NaN</td>\n",
       "      <td>NaN</td>\n",
       "      <td>1100.0</td>\n",
       "      <td>United States</td>\n",
       "    </tr>\n",
       "    <tr>\n",
       "      <th>2</th>\n",
       "      <td>SMMA Bubble App</td>\n",
       "      <td>https://www.upwork.com/jobs/SMMA-Bubble-App_%7...</td>\n",
       "      <td>2024-02-17 09:08:46+00:00</td>\n",
       "      <td>True</td>\n",
       "      <td>10.0</td>\n",
       "      <td>30.0</td>\n",
       "      <td>NaN</td>\n",
       "      <td>United States</td>\n",
       "    </tr>\n",
       "    <tr>\n",
       "      <th>3</th>\n",
       "      <td>Talent Hunter Specialized in Marketing</td>\n",
       "      <td>https://www.upwork.com/jobs/Talent-Hunter-Spec...</td>\n",
       "      <td>2024-02-17 09:08:08+00:00</td>\n",
       "      <td>True</td>\n",
       "      <td>NaN</td>\n",
       "      <td>NaN</td>\n",
       "      <td>NaN</td>\n",
       "      <td>United States</td>\n",
       "    </tr>\n",
       "    <tr>\n",
       "      <th>4</th>\n",
       "      <td>Data Engineer</td>\n",
       "      <td>https://www.upwork.com/jobs/Data-Engineer_%7E0...</td>\n",
       "      <td>2024-02-17 09:07:42+00:00</td>\n",
       "      <td>False</td>\n",
       "      <td>NaN</td>\n",
       "      <td>NaN</td>\n",
       "      <td>650.0</td>\n",
       "      <td>India</td>\n",
       "    </tr>\n",
       "    <tr>\n",
       "      <th>...</th>\n",
       "      <td>...</td>\n",
       "      <td>...</td>\n",
       "      <td>...</td>\n",
       "      <td>...</td>\n",
       "      <td>...</td>\n",
       "      <td>...</td>\n",
       "      <td>...</td>\n",
       "      <td>...</td>\n",
       "    </tr>\n",
       "    <tr>\n",
       "      <th>244823</th>\n",
       "      <td>Need Facebook advertising experts to launch pr...</td>\n",
       "      <td>https://www.upwork.com/jobs/Need-Facebook-adve...</td>\n",
       "      <td>2024-03-24 13:28:38+00:00</td>\n",
       "      <td>True</td>\n",
       "      <td>20.0</td>\n",
       "      <td>100.0</td>\n",
       "      <td>NaN</td>\n",
       "      <td>Zambia</td>\n",
       "    </tr>\n",
       "    <tr>\n",
       "      <th>244824</th>\n",
       "      <td>Digital/Telemarketing/Sales/OutSide Sales</td>\n",
       "      <td>https://www.upwork.com/jobs/Digital-Telemarket...</td>\n",
       "      <td>2024-03-24 13:40:52+00:00</td>\n",
       "      <td>False</td>\n",
       "      <td>NaN</td>\n",
       "      <td>NaN</td>\n",
       "      <td>100.0</td>\n",
       "      <td>Sri Lanka</td>\n",
       "    </tr>\n",
       "    <tr>\n",
       "      <th>244825</th>\n",
       "      <td>WordPress Template Edits</td>\n",
       "      <td>https://www.upwork.com/jobs/WordPress-Template...</td>\n",
       "      <td>2024-03-24 13:37:50+00:00</td>\n",
       "      <td>True</td>\n",
       "      <td>5.0</td>\n",
       "      <td>30.0</td>\n",
       "      <td>NaN</td>\n",
       "      <td>United States</td>\n",
       "    </tr>\n",
       "    <tr>\n",
       "      <th>244826</th>\n",
       "      <td>ELEMENTOR PRO For quick fix (Wordpress)</td>\n",
       "      <td>https://www.upwork.com/jobs/ELEMENTOR-PRO-For-...</td>\n",
       "      <td>2024-03-24 13:52:15+00:00</td>\n",
       "      <td>False</td>\n",
       "      <td>NaN</td>\n",
       "      <td>NaN</td>\n",
       "      <td>15.0</td>\n",
       "      <td>France</td>\n",
       "    </tr>\n",
       "    <tr>\n",
       "      <th>244827</th>\n",
       "      <td>Creating a UGC Ad for Our Mobile Game</td>\n",
       "      <td>https://www.upwork.com/jobs/Creating-UGC-for-O...</td>\n",
       "      <td>2024-03-24 13:53:00+00:00</td>\n",
       "      <td>False</td>\n",
       "      <td>NaN</td>\n",
       "      <td>NaN</td>\n",
       "      <td>50.0</td>\n",
       "      <td>Israel</td>\n",
       "    </tr>\n",
       "  </tbody>\n",
       "</table>\n",
       "<p>244828 rows × 8 columns</p>\n",
       "</div>"
      ],
      "text/plain": [
       "                                                    title  \\\n",
       "0       Experienced Media Buyer For Solar Pannel and R...   \n",
       "1                                    Full Stack Developer   \n",
       "2                                         SMMA Bubble App   \n",
       "3                  Talent Hunter Specialized in Marketing   \n",
       "4                                           Data Engineer   \n",
       "...                                                   ...   \n",
       "244823  Need Facebook advertising experts to launch pr...   \n",
       "244824          Digital/Telemarketing/Sales/OutSide Sales   \n",
       "244825                           WordPress Template Edits   \n",
       "244826            ELEMENTOR PRO For quick fix (Wordpress)   \n",
       "244827              Creating a UGC Ad for Our Mobile Game   \n",
       "\n",
       "                                                     link  \\\n",
       "0       https://www.upwork.com/jobs/Experienced-Media-...   \n",
       "1       https://www.upwork.com/jobs/Full-Stack-Develop...   \n",
       "2       https://www.upwork.com/jobs/SMMA-Bubble-App_%7...   \n",
       "3       https://www.upwork.com/jobs/Talent-Hunter-Spec...   \n",
       "4       https://www.upwork.com/jobs/Data-Engineer_%7E0...   \n",
       "...                                                   ...   \n",
       "244823  https://www.upwork.com/jobs/Need-Facebook-adve...   \n",
       "244824  https://www.upwork.com/jobs/Digital-Telemarket...   \n",
       "244825  https://www.upwork.com/jobs/WordPress-Template...   \n",
       "244826  https://www.upwork.com/jobs/ELEMENTOR-PRO-For-...   \n",
       "244827  https://www.upwork.com/jobs/Creating-UGC-for-O...   \n",
       "\n",
       "                   published_date  is_hourly  hourly_low  hourly_high  budget  \\\n",
       "0       2024-02-17 09:09:54+00:00      False         NaN          NaN   500.0   \n",
       "1       2024-02-17 09:09:17+00:00      False         NaN          NaN  1100.0   \n",
       "2       2024-02-17 09:08:46+00:00       True        10.0         30.0     NaN   \n",
       "3       2024-02-17 09:08:08+00:00       True         NaN          NaN     NaN   \n",
       "4       2024-02-17 09:07:42+00:00      False         NaN          NaN   650.0   \n",
       "...                           ...        ...         ...          ...     ...   \n",
       "244823  2024-03-24 13:28:38+00:00       True        20.0        100.0     NaN   \n",
       "244824  2024-03-24 13:40:52+00:00      False         NaN          NaN   100.0   \n",
       "244825  2024-03-24 13:37:50+00:00       True         5.0         30.0     NaN   \n",
       "244826  2024-03-24 13:52:15+00:00      False         NaN          NaN    15.0   \n",
       "244827  2024-03-24 13:53:00+00:00      False         NaN          NaN    50.0   \n",
       "\n",
       "              country  \n",
       "0                 NaN  \n",
       "1       United States  \n",
       "2       United States  \n",
       "3       United States  \n",
       "4               India  \n",
       "...               ...  \n",
       "244823         Zambia  \n",
       "244824      Sri Lanka  \n",
       "244825  United States  \n",
       "244826         France  \n",
       "244827         Israel  \n",
       "\n",
       "[244828 rows x 8 columns]"
      ]
     },
     "execution_count": 89,
     "metadata": {},
     "output_type": "execute_result"
    }
   ],
   "source": [
    "df =pd.read_csv(\"D:\\\\client\\\\project 8\\\\all_upwork_jobs.csv\")\n",
    "df"
   ]
  },
  {
   "cell_type": "code",
   "execution_count": 90,
   "metadata": {},
   "outputs": [
    {
     "name": "stdout",
     "output_type": "stream",
     "text": [
      "<class 'pandas.core.frame.DataFrame'>\n",
      "RangeIndex: 244828 entries, 0 to 244827\n",
      "Data columns (total 8 columns):\n",
      " #   Column          Non-Null Count   Dtype  \n",
      "---  ------          --------------   -----  \n",
      " 0   title           244827 non-null  object \n",
      " 1   link            244827 non-null  object \n",
      " 2   published_date  244828 non-null  object \n",
      " 3   is_hourly       244828 non-null  bool   \n",
      " 4   hourly_low      102422 non-null  float64\n",
      " 5   hourly_high     98775 non-null   float64\n",
      " 6   budget          103891 non-null  float64\n",
      " 7   country         239751 non-null  object \n",
      "dtypes: bool(1), float64(3), object(4)\n",
      "memory usage: 13.3+ MB\n"
     ]
    }
   ],
   "source": [
    "df.info()"
   ]
  },
  {
   "cell_type": "code",
   "execution_count": 91,
   "metadata": {},
   "outputs": [
    {
     "data": {
      "text/plain": [
       "title                  1\n",
       "link                   1\n",
       "published_date         0\n",
       "is_hourly              0\n",
       "hourly_low        142406\n",
       "hourly_high       146053\n",
       "budget            140937\n",
       "country             5077\n",
       "dtype: int64"
      ]
     },
     "execution_count": 91,
     "metadata": {},
     "output_type": "execute_result"
    }
   ],
   "source": [
    "df.isnull().sum()"
   ]
  },
  {
   "cell_type": "code",
   "execution_count": 92,
   "metadata": {},
   "outputs": [
    {
     "data": {
      "text/html": [
       "<div>\n",
       "<style scoped>\n",
       "    .dataframe tbody tr th:only-of-type {\n",
       "        vertical-align: middle;\n",
       "    }\n",
       "\n",
       "    .dataframe tbody tr th {\n",
       "        vertical-align: top;\n",
       "    }\n",
       "\n",
       "    .dataframe thead th {\n",
       "        text-align: right;\n",
       "    }\n",
       "</style>\n",
       "<table border=\"1\" class=\"dataframe\">\n",
       "  <thead>\n",
       "    <tr style=\"text-align: right;\">\n",
       "      <th></th>\n",
       "      <th>title</th>\n",
       "      <th>link</th>\n",
       "      <th>published_date</th>\n",
       "      <th>is_hourly</th>\n",
       "      <th>hourly_low</th>\n",
       "      <th>hourly_high</th>\n",
       "      <th>budget</th>\n",
       "      <th>country</th>\n",
       "    </tr>\n",
       "  </thead>\n",
       "  <tbody>\n",
       "    <tr>\n",
       "      <th>0</th>\n",
       "      <td>Experienced Media Buyer For Solar Pannel and R...</td>\n",
       "      <td>https://www.upwork.com/jobs/Experienced-Media-...</td>\n",
       "      <td>20240217090954</td>\n",
       "      <td>False</td>\n",
       "      <td>NaN</td>\n",
       "      <td>NaN</td>\n",
       "      <td>500.0</td>\n",
       "      <td>NaN</td>\n",
       "    </tr>\n",
       "    <tr>\n",
       "      <th>1</th>\n",
       "      <td>Full Stack Developer</td>\n",
       "      <td>https://www.upwork.com/jobs/Full-Stack-Develop...</td>\n",
       "      <td>20240217090917</td>\n",
       "      <td>False</td>\n",
       "      <td>NaN</td>\n",
       "      <td>NaN</td>\n",
       "      <td>1100.0</td>\n",
       "      <td>United States</td>\n",
       "    </tr>\n",
       "    <tr>\n",
       "      <th>2</th>\n",
       "      <td>SMMA Bubble App</td>\n",
       "      <td>https://www.upwork.com/jobs/SMMA-Bubble-App_%7...</td>\n",
       "      <td>20240217090846</td>\n",
       "      <td>True</td>\n",
       "      <td>10.0</td>\n",
       "      <td>30.0</td>\n",
       "      <td>NaN</td>\n",
       "      <td>United States</td>\n",
       "    </tr>\n",
       "    <tr>\n",
       "      <th>3</th>\n",
       "      <td>Talent Hunter Specialized in Marketing</td>\n",
       "      <td>https://www.upwork.com/jobs/Talent-Hunter-Spec...</td>\n",
       "      <td>20240217090808</td>\n",
       "      <td>True</td>\n",
       "      <td>NaN</td>\n",
       "      <td>NaN</td>\n",
       "      <td>NaN</td>\n",
       "      <td>United States</td>\n",
       "    </tr>\n",
       "    <tr>\n",
       "      <th>4</th>\n",
       "      <td>Data Engineer</td>\n",
       "      <td>https://www.upwork.com/jobs/Data-Engineer_%7E0...</td>\n",
       "      <td>20240217090742</td>\n",
       "      <td>False</td>\n",
       "      <td>NaN</td>\n",
       "      <td>NaN</td>\n",
       "      <td>650.0</td>\n",
       "      <td>India</td>\n",
       "    </tr>\n",
       "  </tbody>\n",
       "</table>\n",
       "</div>"
      ],
      "text/plain": [
       "                                               title  \\\n",
       "0  Experienced Media Buyer For Solar Pannel and R...   \n",
       "1                               Full Stack Developer   \n",
       "2                                    SMMA Bubble App   \n",
       "3             Talent Hunter Specialized in Marketing   \n",
       "4                                      Data Engineer   \n",
       "\n",
       "                                                link  published_date  \\\n",
       "0  https://www.upwork.com/jobs/Experienced-Media-...  20240217090954   \n",
       "1  https://www.upwork.com/jobs/Full-Stack-Develop...  20240217090917   \n",
       "2  https://www.upwork.com/jobs/SMMA-Bubble-App_%7...  20240217090846   \n",
       "3  https://www.upwork.com/jobs/Talent-Hunter-Spec...  20240217090808   \n",
       "4  https://www.upwork.com/jobs/Data-Engineer_%7E0...  20240217090742   \n",
       "\n",
       "   is_hourly  hourly_low  hourly_high  budget        country  \n",
       "0      False         NaN          NaN   500.0            NaN  \n",
       "1      False         NaN          NaN  1100.0  United States  \n",
       "2       True        10.0         30.0     NaN  United States  \n",
       "3       True         NaN          NaN     NaN  United States  \n",
       "4      False         NaN          NaN   650.0          India  "
      ]
     },
     "execution_count": 92,
     "metadata": {},
     "output_type": "execute_result"
    }
   ],
   "source": [
    "# Convert date format to 'YYYYMMDD'\n",
    "df['published_date'] = pd.to_datetime(df['published_date']).dt.strftime('%Y%m%d%H%M%S')\n",
    "df.head()"
   ]
  },
  {
   "cell_type": "code",
   "execution_count": 93,
   "metadata": {},
   "outputs": [
    {
     "data": {
      "text/plain": [
       "title                  0\n",
       "link                   1\n",
       "published_date         0\n",
       "is_hourly              0\n",
       "hourly_low        142406\n",
       "hourly_high       146053\n",
       "budget            140937\n",
       "country             5077\n",
       "dtype: int64"
      ]
     },
     "execution_count": 93,
     "metadata": {},
     "output_type": "execute_result"
    }
   ],
   "source": [
    "# replacing na values \n",
    "df [\"title\"].fillna( method ='ffill', limit = 1, inplace = True)\n",
    "df.isnull().sum()"
   ]
  },
  {
   "cell_type": "code",
   "execution_count": 94,
   "metadata": {},
   "outputs": [
    {
     "data": {
      "text/plain": [
       "title                  0\n",
       "link                   0\n",
       "published_date         0\n",
       "is_hourly              0\n",
       "hourly_low        142406\n",
       "hourly_high       146053\n",
       "budget            140937\n",
       "country             5077\n",
       "dtype: int64"
      ]
     },
     "execution_count": 94,
     "metadata": {},
     "output_type": "execute_result"
    }
   ],
   "source": [
    "# replacing na values in title with No link\n",
    "df[\"link\"].fillna(\"No link\", inplace = True)\n",
    "df.isnull().sum()"
   ]
  },
  {
   "cell_type": "markdown",
   "metadata": {},
   "source": [
    "### Fill the null values for numerical columns"
   ]
  },
  {
   "cell_type": "code",
   "execution_count": 95,
   "metadata": {},
   "outputs": [
    {
     "name": "stdout",
     "output_type": "stream",
     "text": [
      "hourly_low     0\n",
      "hourly_high    0\n",
      "budget         0\n",
      "dtype: int64\n"
     ]
    }
   ],
   "source": [
    "# Select numerical columnsnumerical columns\n",
    "numerical_cols = df.select_dtypes(include=['float64', 'int64']).columns\n",
    "\n",
    "# to fill missing values with mean or median\n",
    "def fill_missing_values(data, columns, strategy='mean'):\n",
    "    if strategy == 'mean':\n",
    "        for col in columns:\n",
    "            df[col].fillna(data[col].mean(), inplace=True)\n",
    "    elif strategy == 'median':\n",
    "        for col in columns:\n",
    "            df[col].fillna(data[col].median(), inplace=True)\n",
    "\n",
    "            # Filling missing values with median\n",
    "fill_missing_values(df, numerical_cols, strategy='median')\n",
    "\n",
    "# Check there are no more missing values in the numerical columns\n",
    "missing_values = df[numerical_cols].isnull().sum()\n",
    "print(missing_values)"
   ]
  },
  {
   "cell_type": "markdown",
   "metadata": {},
   "source": [
    "### Fill the null values for categorical columns"
   ]
  },
  {
   "cell_type": "code",
   "execution_count": 96,
   "metadata": {},
   "outputs": [
    {
     "data": {
      "text/plain": [
       "title             0\n",
       "link              0\n",
       "published_date    0\n",
       "is_hourly         0\n",
       "hourly_low        0\n",
       "hourly_high       0\n",
       "budget            0\n",
       "country           0\n",
       "dtype: int64"
      ]
     },
     "execution_count": 96,
     "metadata": {},
     "output_type": "execute_result"
    }
   ],
   "source": [
    "# Select categorical columns\n",
    "categorical_cols = df.select_dtypes(include=['object']).columns\n",
    "\n",
    "# Fill missing values with mode for each categorical column\n",
    "for col in categorical_cols:\n",
    "    mode_value = df[col].mode()[0]  # Calculate the mode for the column\n",
    "    df[col].fillna(mode_value, inplace=True)  # Fill missing values with the mode\n",
    "\n",
    "# Verify that there are no more missing values in the categorical columns\n",
    "df.isnull().sum()"
   ]
  },
  {
   "cell_type": "code",
   "execution_count": 97,
   "metadata": {},
   "outputs": [
    {
     "data": {
      "text/plain": [
       "0"
      ]
     },
     "execution_count": 97,
     "metadata": {},
     "output_type": "execute_result"
    }
   ],
   "source": [
    "df.duplicated().sum()"
   ]
  },
  {
   "cell_type": "code",
   "execution_count": 98,
   "metadata": {},
   "outputs": [
    {
     "data": {
      "text/html": [
       "<div>\n",
       "<style scoped>\n",
       "    .dataframe tbody tr th:only-of-type {\n",
       "        vertical-align: middle;\n",
       "    }\n",
       "\n",
       "    .dataframe tbody tr th {\n",
       "        vertical-align: top;\n",
       "    }\n",
       "\n",
       "    .dataframe thead th {\n",
       "        text-align: right;\n",
       "    }\n",
       "</style>\n",
       "<table border=\"1\" class=\"dataframe\">\n",
       "  <thead>\n",
       "    <tr style=\"text-align: right;\">\n",
       "      <th></th>\n",
       "      <th>title</th>\n",
       "      <th>link</th>\n",
       "      <th>publisheddate</th>\n",
       "      <th>ishourly</th>\n",
       "      <th>hourlylow</th>\n",
       "      <th>hourlyhigh</th>\n",
       "      <th>budget</th>\n",
       "      <th>country</th>\n",
       "    </tr>\n",
       "  </thead>\n",
       "  <tbody>\n",
       "    <tr>\n",
       "      <th>0</th>\n",
       "      <td>Experienced Media Buyer For Solar Pannel and R...</td>\n",
       "      <td>https://www.upwork.com/jobs/Experienced-Media-...</td>\n",
       "      <td>20240217090954</td>\n",
       "      <td>False</td>\n",
       "      <td>15.0</td>\n",
       "      <td>30.0</td>\n",
       "      <td>500.0</td>\n",
       "      <td>United States</td>\n",
       "    </tr>\n",
       "    <tr>\n",
       "      <th>1</th>\n",
       "      <td>Full Stack Developer</td>\n",
       "      <td>https://www.upwork.com/jobs/Full-Stack-Develop...</td>\n",
       "      <td>20240217090917</td>\n",
       "      <td>False</td>\n",
       "      <td>15.0</td>\n",
       "      <td>30.0</td>\n",
       "      <td>1100.0</td>\n",
       "      <td>United States</td>\n",
       "    </tr>\n",
       "    <tr>\n",
       "      <th>2</th>\n",
       "      <td>SMMA Bubble App</td>\n",
       "      <td>https://www.upwork.com/jobs/SMMA-Bubble-App_%7...</td>\n",
       "      <td>20240217090846</td>\n",
       "      <td>True</td>\n",
       "      <td>10.0</td>\n",
       "      <td>30.0</td>\n",
       "      <td>100.0</td>\n",
       "      <td>United States</td>\n",
       "    </tr>\n",
       "    <tr>\n",
       "      <th>3</th>\n",
       "      <td>Talent Hunter Specialized in Marketing</td>\n",
       "      <td>https://www.upwork.com/jobs/Talent-Hunter-Spec...</td>\n",
       "      <td>20240217090808</td>\n",
       "      <td>True</td>\n",
       "      <td>15.0</td>\n",
       "      <td>30.0</td>\n",
       "      <td>100.0</td>\n",
       "      <td>United States</td>\n",
       "    </tr>\n",
       "    <tr>\n",
       "      <th>4</th>\n",
       "      <td>Data Engineer</td>\n",
       "      <td>https://www.upwork.com/jobs/Data-Engineer_%7E0...</td>\n",
       "      <td>20240217090742</td>\n",
       "      <td>False</td>\n",
       "      <td>15.0</td>\n",
       "      <td>30.0</td>\n",
       "      <td>650.0</td>\n",
       "      <td>India</td>\n",
       "    </tr>\n",
       "  </tbody>\n",
       "</table>\n",
       "</div>"
      ],
      "text/plain": [
       "                                               title  \\\n",
       "0  Experienced Media Buyer For Solar Pannel and R...   \n",
       "1                               Full Stack Developer   \n",
       "2                                    SMMA Bubble App   \n",
       "3             Talent Hunter Specialized in Marketing   \n",
       "4                                      Data Engineer   \n",
       "\n",
       "                                                link   publisheddate  \\\n",
       "0  https://www.upwork.com/jobs/Experienced-Media-...  20240217090954   \n",
       "1  https://www.upwork.com/jobs/Full-Stack-Develop...  20240217090917   \n",
       "2  https://www.upwork.com/jobs/SMMA-Bubble-App_%7...  20240217090846   \n",
       "3  https://www.upwork.com/jobs/Talent-Hunter-Spec...  20240217090808   \n",
       "4  https://www.upwork.com/jobs/Data-Engineer_%7E0...  20240217090742   \n",
       "\n",
       "   ishourly  hourlylow  hourlyhigh  budget        country  \n",
       "0     False       15.0        30.0   500.0  United States  \n",
       "1     False       15.0        30.0  1100.0  United States  \n",
       "2      True       10.0        30.0   100.0  United States  \n",
       "3      True       15.0        30.0   100.0  United States  \n",
       "4     False       15.0        30.0   650.0          India  "
      ]
     },
     "execution_count": 98,
     "metadata": {},
     "output_type": "execute_result"
    }
   ],
   "source": [
    "# Renaming columns\n",
    "\n",
    "df = df.rename(columns={\n",
    "    'published_date': 'publisheddate',\n",
    "    'is_hourly': 'ishourly',\n",
    "    'hourly_low': 'hourlylow',\n",
    "    'hourly_high': 'hourlyhigh'  \n",
    "    })\n",
    "\n",
    "df.head()"
   ]
  },
  {
   "cell_type": "markdown",
   "metadata": {},
   "source": [
    "#### Creating boxplot to find the outliers"
   ]
  },
  {
   "cell_type": "code",
   "execution_count": 99,
   "metadata": {},
   "outputs": [
    {
     "data": {
      "image/png": "[encoded data removed]",
      "text/plain": [
       "<Figure size 1400x1000 with 4 Axes>"
      ]
     },
     "metadata": {},
     "output_type": "display_data"
    }
   ],
   "source": [
    "# List of numerical features to plot\n",
    "features_Processor = [ 'ishourly', 'hourlylow', 'hourlyhigh', 'budget']\n",
    "\n",
    "plt.figure(figsize=(14, 10))\n",
    "for i, features_Processor in enumerate(features_Processor):\n",
    "    plt.subplot(3, 2, i+1)\n",
    "    sns.boxplot(y=df[features_Processor])\n",
    "    plt.title(f'Box Plot of {features_Processor}')\n",
    "plt.tight_layout()\n",
    "plt.show()"
   ]
  },
  {
   "cell_type": "markdown",
   "metadata": {},
   "source": [
    "### Use IQR technique to find and rempove outliers"
   ]
  },
  {
   "cell_type": "code",
   "execution_count": 100,
   "metadata": {},
   "outputs": [],
   "source": [
    "def iqr_technique(DFcol):\n",
    "    Q1 = np.percentile(DFcol, 25)\n",
    "    Q3 = np.percentile(DFcol, 75)\n",
    "\n",
    "    IQR = Q3 - Q1\n",
    "    lower_range = Q1 - (1.5 * IQR)\n",
    "    upper_range = Q3 + (1.5 * IQR)\n",
    "    return lower_range, upper_range"
   ]
  },
  {
   "cell_type": "code",
   "execution_count": 101,
   "metadata": {},
   "outputs": [
    {
     "data": {
      "text/plain": [
       "array([False,  True])"
      ]
     },
     "execution_count": 101,
     "metadata": {},
     "output_type": "execute_result"
    }
   ],
   "source": [
    "df.ishourly.unique()"
   ]
  },
  {
   "cell_type": "code",
   "execution_count": 102,
   "metadata": {},
   "outputs": [
    {
     "data": {
      "text/plain": [
       "(244828, 8)"
      ]
     },
     "execution_count": 102,
     "metadata": {},
     "output_type": "execute_result"
    }
   ],
   "source": [
    "df.shape"
   ]
  },
  {
   "cell_type": "code",
   "execution_count": 103,
   "metadata": {},
   "outputs": [],
   "source": [
    "#lower_range, upper_range = iqr_technique(df['hourlylow'])\n",
    "#df = df [(df.hourlylow > lower_range) & (df.hourlylow < upper_range) ]\n",
    "\n",
    "#df.shape"
   ]
  },
  {
   "cell_type": "code",
   "execution_count": 104,
   "metadata": {},
   "outputs": [],
   "source": [
    "df.dropna(subset=['hourlylow', 'hourlyhigh', 'title'], inplace=True)"
   ]
  },
  {
   "cell_type": "markdown",
   "metadata": {},
   "source": [
    "### average hourly rate"
   ]
  },
  {
   "cell_type": "code",
   "execution_count": 105,
   "metadata": {},
   "outputs": [],
   "source": [
    "\n",
    "df['average_hourly'] = (df['hourlylow'] + df['hourlyhigh']) / 2"
   ]
  },
  {
   "cell_type": "code",
   "execution_count": 106,
   "metadata": {},
   "outputs": [],
   "source": [
    "from sklearn.feature_extraction.text import CountVectorizer"
   ]
  },
  {
   "cell_type": "markdown",
   "metadata": {},
   "source": [
    "### Extract keywords from job titles"
   ]
  },
  {
   "cell_type": "code",
   "execution_count": 107,
   "metadata": {},
   "outputs": [],
   "source": [
    "\n",
    "vectorizer = CountVectorizer(stop_words='english', max_features=20)\n",
    "keywords_matrix = vectorizer.fit_transform(df['title'])\n",
    "keywords_df = pd.DataFrame(keywords_matrix.toarray(), columns=vectorizer.get_feature_names_out())"
   ]
  },
  {
   "cell_type": "markdown",
   "metadata": {},
   "source": [
    "### Combine keywords with salary data"
   ]
  },
  {
   "cell_type": "code",
   "execution_count": 109,
   "metadata": {},
   "outputs": [
    {
     "data": {
      "text/html": [
       "<div>\n",
       "<style scoped>\n",
       "    .dataframe tbody tr th:only-of-type {\n",
       "        vertical-align: middle;\n",
       "    }\n",
       "\n",
       "    .dataframe tbody tr th {\n",
       "        vertical-align: top;\n",
       "    }\n",
       "\n",
       "    .dataframe thead th {\n",
       "        text-align: right;\n",
       "    }\n",
       "</style>\n",
       "<table border=\"1\" class=\"dataframe\">\n",
       "  <thead>\n",
       "    <tr style=\"text-align: right;\">\n",
       "      <th></th>\n",
       "      <th>average_hourly</th>\n",
       "      <th>amp</th>\n",
       "      <th>app</th>\n",
       "      <th>create</th>\n",
       "      <th>data</th>\n",
       "      <th>design</th>\n",
       "      <th>designer</th>\n",
       "      <th>developer</th>\n",
       "      <th>editor</th>\n",
       "      <th>expert</th>\n",
       "      <th>...</th>\n",
       "      <th>manager</th>\n",
       "      <th>marketing</th>\n",
       "      <th>media</th>\n",
       "      <th>need</th>\n",
       "      <th>needed</th>\n",
       "      <th>social</th>\n",
       "      <th>specialist</th>\n",
       "      <th>video</th>\n",
       "      <th>website</th>\n",
       "      <th>youtube</th>\n",
       "    </tr>\n",
       "  </thead>\n",
       "  <tbody>\n",
       "    <tr>\n",
       "      <th>0</th>\n",
       "      <td>22.5</td>\n",
       "      <td>0</td>\n",
       "      <td>0</td>\n",
       "      <td>0</td>\n",
       "      <td>0</td>\n",
       "      <td>0</td>\n",
       "      <td>0</td>\n",
       "      <td>0</td>\n",
       "      <td>0</td>\n",
       "      <td>0</td>\n",
       "      <td>...</td>\n",
       "      <td>0</td>\n",
       "      <td>0</td>\n",
       "      <td>1</td>\n",
       "      <td>0</td>\n",
       "      <td>0</td>\n",
       "      <td>0</td>\n",
       "      <td>0</td>\n",
       "      <td>0</td>\n",
       "      <td>0</td>\n",
       "      <td>0</td>\n",
       "    </tr>\n",
       "    <tr>\n",
       "      <th>1</th>\n",
       "      <td>22.5</td>\n",
       "      <td>0</td>\n",
       "      <td>0</td>\n",
       "      <td>0</td>\n",
       "      <td>0</td>\n",
       "      <td>0</td>\n",
       "      <td>0</td>\n",
       "      <td>1</td>\n",
       "      <td>0</td>\n",
       "      <td>0</td>\n",
       "      <td>...</td>\n",
       "      <td>0</td>\n",
       "      <td>0</td>\n",
       "      <td>0</td>\n",
       "      <td>0</td>\n",
       "      <td>0</td>\n",
       "      <td>0</td>\n",
       "      <td>0</td>\n",
       "      <td>0</td>\n",
       "      <td>0</td>\n",
       "      <td>0</td>\n",
       "    </tr>\n",
       "    <tr>\n",
       "      <th>2</th>\n",
       "      <td>20.0</td>\n",
       "      <td>0</td>\n",
       "      <td>1</td>\n",
       "      <td>0</td>\n",
       "      <td>0</td>\n",
       "      <td>0</td>\n",
       "      <td>0</td>\n",
       "      <td>0</td>\n",
       "      <td>0</td>\n",
       "      <td>0</td>\n",
       "      <td>...</td>\n",
       "      <td>0</td>\n",
       "      <td>0</td>\n",
       "      <td>0</td>\n",
       "      <td>0</td>\n",
       "      <td>0</td>\n",
       "      <td>0</td>\n",
       "      <td>0</td>\n",
       "      <td>0</td>\n",
       "      <td>0</td>\n",
       "      <td>0</td>\n",
       "    </tr>\n",
       "    <tr>\n",
       "      <th>3</th>\n",
       "      <td>22.5</td>\n",
       "      <td>0</td>\n",
       "      <td>0</td>\n",
       "      <td>0</td>\n",
       "      <td>0</td>\n",
       "      <td>0</td>\n",
       "      <td>0</td>\n",
       "      <td>0</td>\n",
       "      <td>0</td>\n",
       "      <td>0</td>\n",
       "      <td>...</td>\n",
       "      <td>0</td>\n",
       "      <td>1</td>\n",
       "      <td>0</td>\n",
       "      <td>0</td>\n",
       "      <td>0</td>\n",
       "      <td>0</td>\n",
       "      <td>0</td>\n",
       "      <td>0</td>\n",
       "      <td>0</td>\n",
       "      <td>0</td>\n",
       "    </tr>\n",
       "    <tr>\n",
       "      <th>4</th>\n",
       "      <td>22.5</td>\n",
       "      <td>0</td>\n",
       "      <td>0</td>\n",
       "      <td>0</td>\n",
       "      <td>1</td>\n",
       "      <td>0</td>\n",
       "      <td>0</td>\n",
       "      <td>0</td>\n",
       "      <td>0</td>\n",
       "      <td>0</td>\n",
       "      <td>...</td>\n",
       "      <td>0</td>\n",
       "      <td>0</td>\n",
       "      <td>0</td>\n",
       "      <td>0</td>\n",
       "      <td>0</td>\n",
       "      <td>0</td>\n",
       "      <td>0</td>\n",
       "      <td>0</td>\n",
       "      <td>0</td>\n",
       "      <td>0</td>\n",
       "    </tr>\n",
       "  </tbody>\n",
       "</table>\n",
       "<p>5 rows × 21 columns</p>\n",
       "</div>"
      ],
      "text/plain": [
       "   average_hourly  amp  app  create  data  design  designer  developer  \\\n",
       "0            22.5    0    0       0     0       0         0          0   \n",
       "1            22.5    0    0       0     0       0         0          1   \n",
       "2            20.0    0    1       0     0       0         0          0   \n",
       "3            22.5    0    0       0     0       0         0          0   \n",
       "4            22.5    0    0       0     1       0         0          0   \n",
       "\n",
       "   editor  expert  ...  manager  marketing  media  need  needed  social  \\\n",
       "0       0       0  ...        0          0      1     0       0       0   \n",
       "1       0       0  ...        0          0      0     0       0       0   \n",
       "2       0       0  ...        0          0      0     0       0       0   \n",
       "3       0       0  ...        0          1      0     0       0       0   \n",
       "4       0       0  ...        0          0      0     0       0       0   \n",
       "\n",
       "   specialist  video  website  youtube  \n",
       "0           0      0        0        0  \n",
       "1           0      0        0        0  \n",
       "2           0      0        0        0  \n",
       "3           0      0        0        0  \n",
       "4           0      0        0        0  \n",
       "\n",
       "[5 rows x 21 columns]"
      ]
     },
     "execution_count": 109,
     "metadata": {},
     "output_type": "execute_result"
    }
   ],
   "source": [
    "\n",
    "analysis_df = pd.concat([df[['average_hourly']], keywords_df], axis=1)\n",
    "analysis_df.head()"
   ]
  },
  {
   "cell_type": "code",
   "execution_count": 110,
   "metadata": {},
   "outputs": [
    {
     "name": "stdout",
     "output_type": "stream",
     "text": [
      "Top correlated keywords with salary:\n",
      "average_hourly    1.000000\n",
      "expert            0.024366\n",
      "needed            0.010119\n",
      "developer         0.006093\n",
      "marketing         0.000791\n",
      "need             -0.001382\n",
      "design           -0.004169\n",
      "looking          -0.005276\n",
      "amp              -0.006184\n",
      "designer         -0.006323\n",
      "Name: average_hourly, dtype: float64\n"
     ]
    }
   ],
   "source": [
    "# Correlation analysis\n",
    "correlations = analysis_df.corr()['average_hourly'].sort_values(ascending=False)\n",
    "print(\"Top correlated keywords with salary:\")\n",
    "print(correlations.head(10))"
   ]
  },
  {
   "cell_type": "code",
   "execution_count": 111,
   "metadata": {},
   "outputs": [
    {
     "data": {
      "image/png": "[encoded data removed]",
      "text/plain": [
       "<Figure size 1000x600 with 1 Axes>"
      ]
     },
     "metadata": {},
     "output_type": "display_data"
    }
   ],
   "source": [
    "# Visualization\n",
    "correlations[1:11].plot(kind='bar', figsize=(10, 6), title='Top Keywords Correlated with Hourly Rates')\n",
    "plt.xlabel('Keywords')\n",
    "plt.ylabel('Correlation with Average Hourly Rate')\n",
    "plt.show()"
   ]
  }
 ],
 "metadata": {
  "kernelspec": {
   "display_name": "base",
   "language": "python",
   "name": "python3"
  },
  "language_info": {
   "codemirror_mode": {
    "name": "ipython",
    "version": 3
   },
   "file_extension": ".py",
   "mimetype": "text/x-python",
   "name": "python",
   "nbconvert_exporter": "python",
   "pygments_lexer": "ipython3",
   "version": "3.11.7"
  }
 },
 "nbformat": 4,
 "nbformat_minor": 2
}
